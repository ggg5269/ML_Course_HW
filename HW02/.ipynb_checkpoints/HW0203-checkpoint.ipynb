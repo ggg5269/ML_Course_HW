{
 "cells": [
  {
   "cell_type": "code",
   "execution_count": 1,
   "metadata": {},
   "outputs": [],
   "source": [
    "from IPython.core.interactiveshell import InteractiveShell\n",
    "InteractiveShell.ast_node_interactivity = \"all\"\n",
    "%matplotlib inline"
   ]
  },
  {
   "cell_type": "markdown",
   "metadata": {},
   "source": [
    "# Import Packages and Dataset"
   ]
  },
  {
   "cell_type": "code",
   "execution_count": 2,
   "metadata": {},
   "outputs": [],
   "source": [
    "import pandas as pd\n",
    "import numpy as np\n",
    "import matplotlib.pyplot as plt\n",
    "from random import randint, shuffle"
   ]
  },
  {
   "cell_type": "code",
   "execution_count": 16,
   "metadata": {},
   "outputs": [],
   "source": [
    "df = pd.read_csv('Pokemon.csv').iloc[:, 1:]\n",
    "\n",
    "# normalizaition\n",
    "df.iloc[:, 2: -1] = df.iloc[:, 2:-1].apply(lambda x: (x-x.mean()) / x.std(), axis = 0)\n",
    "df_num = df.iloc[:, 2:-1]\n",
    "#df_num = df_num.apply(lambda x: (x-x.mean()) / x.std(), axis = 0)\n",
    "\n",
    "target = list(df.iloc[120: , 1])"
   ]
  },
  {
   "cell_type": "markdown",
   "metadata": {},
   "source": [
    "# Get Distance Matrix"
   ]
  },
  {
   "cell_type": "code",
   "execution_count": 17,
   "metadata": {},
   "outputs": [],
   "source": [
    "def distance(r1, r2):\n",
    "    return (((r1 - r2) ** 2).sum()) ** 0.5\n",
    "\n",
    "def get_distance(M_num):\n",
    "    df_dist = pd.DataFrame()\n",
    "\n",
    "    for i in range(120, 158):\n",
    "        dist = []\n",
    "        for j in range(120):\n",
    "            dist.append(distance(M_num.iloc[i], M_num.iloc[j]))\n",
    "        df_dist['row' + str(i)] = dist \n",
    "    return df_dist"
   ]
  },
  {
   "cell_type": "code",
   "execution_count": 18,
   "metadata": {},
   "outputs": [],
   "source": [
    "df_dist = get_distance(df_num)"
   ]
  },
  {
   "cell_type": "markdown",
   "metadata": {},
   "source": [
    "# Get Neighbors"
   ]
  },
  {
   "cell_type": "code",
   "execution_count": 19,
   "metadata": {},
   "outputs": [],
   "source": [
    "def most_common(lst):\n",
    "    return max(set(lst), key=lst.count)"
   ]
  },
  {
   "cell_type": "code",
   "execution_count": 22,
   "metadata": {},
   "outputs": [],
   "source": [
    "def predict(df, M_dist, target, k):\n",
    "    \"\"\"\n",
    "    df: main dataset\n",
    "    M_dist: distance matrix\n",
    "    target: true answers\n",
    "    k: k neighbors\n",
    "    \"\"\"\n",
    "    cols = M_dist.shape[1]\n",
    "    pred = []\n",
    "    for i in range(cols):\n",
    "        current = M_dist.iloc[:, i:i+1]\n",
    "        cur_sort = current.sort_values(by = current.columns[0])\n",
    "        #print(cur_sort[:k])\n",
    "        idx_list = list(cur_sort.index[:k]) # k neighbors\n",
    "        type_list = []\n",
    "        for idx in idx_list:\n",
    "            type_list.append(df.iloc[idx, 1])\n",
    "        #print(type_list)\n",
    "        pred.append(most_common(type_list))\n",
    "        #print(pred)\n",
    "    # print(target)\n",
    "    match = [pred[i] == target[i] for i in range(len(target))]\n",
    "    return sum(match) / len(match)"
   ]
  },
  {
   "cell_type": "code",
   "execution_count": 23,
   "metadata": {},
   "outputs": [
    {
     "data": {
      "text/plain": [
       "0.5526315789473685"
      ]
     },
     "execution_count": 23,
     "metadata": {},
     "output_type": "execute_result"
    }
   ],
   "source": [
    "predict(df, df_dist, target, 2)"
   ]
  },
  {
   "cell_type": "code",
   "execution_count": 102,
   "metadata": {},
   "outputs": [],
   "source": [
    "def graph_res(df, M_dist, target):\n",
    "    klist = []\n",
    "    for k in range(1, 11):\n",
    "        klist.append(predict(df, M_dist, target, k))\n",
    "    xaxis = [i for i in range(1, 11)]\n",
    "    # print(klist)\n",
    "    plt.plot(xaxis, klist, 'pink')\n",
    "    plt.title(\"accuracy with KNN\")\n",
    "    # plt.savefig('knn.png')\n",
    "    return klist"
   ]
  },
  {
   "cell_type": "code",
   "execution_count": 103,
   "metadata": {},
   "outputs": [
    {
     "data": {
      "text/plain": [
       "[0.6052631578947368,\n",
       " 0.5526315789473685,\n",
       " 0.631578947368421,\n",
       " 0.6052631578947368,\n",
       " 0.6052631578947368,\n",
       " 0.5789473684210527,\n",
       " 0.5789473684210527,\n",
       " 0.6578947368421053,\n",
       " 0.6842105263157895,\n",
       " 0.6578947368421053]"
      ]
     },
     "execution_count": 103,
     "metadata": {},
     "output_type": "execute_result"
    },
    {
     "data": {
      "image/png": "[encoded data removed]",
      "text/plain": [
       "<Figure size 432x288 with 1 Axes>"
      ]
     },
     "metadata": {
      "needs_background": "light"
     },
     "output_type": "display_data"
    }
   ],
   "source": [
    "graph_res(df, df_dist, target)"
   ]
  },
  {
   "cell_type": "markdown",
   "metadata": {},
   "source": [
    "# PCA"
   ]
  },
  {
   "cell_type": "code",
   "execution_count": null,
   "metadata": {},
   "outputs": [],
   "source": [
    "def eigen(train_x):\n",
    "    cov_train = np.cov(train_x.T)\n",
    "    eig_val, eig_vec = np.linalg.eig(cov_train)\n",
    "    return eig_val, eig_vec\n",
    "\n",
    "def PCA(train_x, n, eig_val_train, eig_vec_train):\n",
    "    \n",
    "    eig_pairs = [(np.abs(eig_val_train[i]), eig_vec_train[:,i]) for i in range(len(eig_val_train))]\n",
    "    eig_pairs.sort(key=lambda x: x[0], reverse=True)\n",
    "    tot = sum(eig_val_train[:n])\n",
    "    var_exp = [(i / tot)*100 for i in sorted(eig_val_train[:n], reverse=True)]\n",
    "\n",
    "    cum_var_exp = np.array(np.cumsum(var_exp), dtype = 'float32')\n",
    "\n",
    "    pca_w = np.array([eig_pairs[i][1] for i in range(n)], dtype = 'float32')\n",
    "    return train_x @ pca_w.T"
   ]
  },
  {
   "cell_type": "code",
   "execution_count": null,
   "metadata": {},
   "outputs": [],
   "source": [
    "df_num_np = np.asarray(df_num)"
   ]
  },
  {
   "cell_type": "code",
   "execution_count": null,
   "metadata": {},
   "outputs": [],
   "source": [
    "eig_val_dfx, eig_vec_dfx = eigen(df_num_np[:120, :])"
   ]
  },
  {
   "cell_type": "code",
   "execution_count": null,
   "metadata": {},
   "outputs": [],
   "source": [
    "pca_train_2 = PCA(df_num_np[:120,:], 7, eig_val_dfx, eig_vec_dfx)"
   ]
  },
  {
   "cell_type": "code",
   "execution_count": null,
   "metadata": {},
   "outputs": [],
   "source": []
  }
 ],
 "metadata": {
  "kernelspec": {
   "display_name": "Python 3",
   "language": "python",
   "name": "python3"
  },
  "language_info": {
   "codemirror_mode": {
    "name": "ipython",
    "version": 3
   },
   "file_extension": ".py",
   "mimetype": "text/x-python",
   "name": "python",
   "nbconvert_exporter": "python",
   "pygments_lexer": "ipython3",
   "version": "3.7.5"
  }
 },
 "nbformat": 4,
 "nbformat_minor": 4
}
