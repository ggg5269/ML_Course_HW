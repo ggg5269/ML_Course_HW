{
 "cells": [
  {
   "cell_type": "code",
   "execution_count": null,
   "metadata": {},
   "outputs": [],
   "source": [
    "def logit(train_x, train_t, test_x, times):\n",
    "    # create bias term\n",
    "    bias = np.ones_like(train_x[:,0]).reshape(25, -1)\n",
    "\n",
    "    train_x = np.concatenate((bias, train_x), axis = 1)\n",
    "    test_x = np.concatenate((bias, test_x), axis = 1)\n",
    "\n",
    "    # training\n",
    "    w = np.zeros((train_x.shape[1], 5))\n",
    "    CE = []\n",
    "    for i in range(times):    \n",
    "        ak = train_x @ w\n",
    "        y_p = softmax(ak)\n",
    "        E_grad = train_x.T @ (y_p - train_t)\n",
    "        w = w - 0.001 * E_grad\n",
    "        # cross entropy\n",
    "        CE.append(-1 * np.multiply(np.log2(y_p), train_t).sum())\n",
    "    return w, CE"
   ]
  },
  {
   "cell_type": "code",
   "execution_count": 87,
   "metadata": {},
   "outputs": [],
   "source": [
    "# training\n",
    "w = np.zeros((5, 5))\n",
    "CE = []\n",
    "for i in range(50):    \n",
    "    ak = pca_train_2 @ w\n",
    "    y_p = softmax(ak)\n",
    "    R = np.diag(np.array([y_p[i].dot((1 - y_p[i])) for i in range(25)]))\n",
    "    w = w - np.linalg.inv(pca_train_2.T @ R @ pca_train_2) @ pca_train_2.T @ (y_p - train_t)\n",
    "    # cross entropy\n",
    "    CE.append(-1 * np.multiply(np.log2(y_p), train_t).sum())"
   ]
  },
  {
   "cell_type": "code",
   "execution_count": null,
   "metadata": {},
   "outputs": [],
   "source": [
    "def PCA(train_x, n):\n",
    "    cov_train = np.cov(train_x.T)\n",
    "    eig_val_train, eig_vec_train = np.linalg.eig(cov_train)\n",
    "    eig_pairs = [(np.abs(eig_val_train[i]), eig_vec_train[:,i]) for i in range(len(eig_val_train))]\n",
    "    eig_pairs.sort(key=lambda x: x[0], reverse=True)\n",
    "    tot = sum(eig_val_train[:n])\n",
    "    var_exp = [(i / tot)*100 for i in sorted(eig_val_train[:n], reverse=True)]\n",
    "    cum_var_exp = np.array(np.cumsum(var_exp), dtype = 'float32')\n",
    "    print(f\"\"\"Total variance explaind in first {n} component: \n",
    "    ========================================\n",
    "    {cum_var_exp}\"\"\")\n",
    "    pca_w = np.array([eig_pairs[i][1] for i in range(n)], dtype = 'float32')\n",
    "    return train_x @ pca_w.T"
   ]
  },
  {
   "cell_type": "code",
   "execution_count": 102,
   "metadata": {},
   "outputs": [],
   "source": [
    "# create bias term\n",
    "bias = np.ones_like(train_2[:,0]).reshape(25, -1)\n",
    "\n",
    "train_2 = np.concatenate((bias, train_2), axis = 1)\n",
    "test_2 = np.concatenate((bias, test_2), axis = 1)\n",
    "\n",
    "# training\n",
    "w = np.zeros((10305, 5))\n",
    "CE = []\n",
    "for i in range(50):    \n",
    "    ak = train_2 @ w\n",
    "    y_p = softmax(ak)\n",
    "    E_grad = train_2.T @ (y_p - train_t)\n",
    "    w = w - 0.001 * E_grad\n",
    "    # cross entropy\n",
    "    CE.append(-1 * np.multiply(np.log2(y_p), train_t).sum())"
   ]
  }
 ],
 "metadata": {
  "kernelspec": {
   "display_name": "Python 3",
   "language": "python",
   "name": "python3"
  },
  "language_info": {
   "codemirror_mode": {
    "name": "ipython",
    "version": 3
   },
   "file_extension": ".py",
   "mimetype": "text/x-python",
   "name": "python",
   "nbconvert_exporter": "python",
   "pygments_lexer": "ipython3",
   "version": "3.7.5"
  }
 },
 "nbformat": 4,
 "nbformat_minor": 4
}
