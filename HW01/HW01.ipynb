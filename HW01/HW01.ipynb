{
 "cells": [
  {
   "cell_type": "code",
   "execution_count": 1,
   "metadata": {},
   "outputs": [],
   "source": [
    "from IPython.core.interactiveshell import InteractiveShell\n",
    "InteractiveShell.ast_node_interactivity = \"all\"\n",
    "%matplotlib inline"
   ]
  },
  {
   "cell_type": "code",
   "execution_count": 1,
   "metadata": {},
   "outputs": [],
   "source": [
    "import pandas as pd\n",
    "import numpy as np\n",
    "import matplotlib.pyplot as plt\n",
    "from random import randint, shuffle\n",
    "import sys"
   ]
  },
  {
   "cell_type": "code",
   "execution_count": 2,
   "metadata": {},
   "outputs": [
    {
     "data": {
      "text/plain": [
       "'3.7.5 (default, Oct 31 2019, 15:18:51) [MSC v.1916 64 bit (AMD64)]'"
      ]
     },
     "execution_count": 2,
     "metadata": {},
     "output_type": "execute_result"
    }
   ],
   "source": [
    "sys.version"
   ]
  },
  {
   "cell_type": "markdown",
   "metadata": {},
   "source": [
    "## Import Datasets"
   ]
  },
  {
   "cell_type": "code",
   "execution_count": 4,
   "metadata": {},
   "outputs": [],
   "source": [
    "data_x = pd.read_csv('dataset_X.csv').iloc[:,1:]\n",
    "data_t = pd.read_csv('dataset_T.csv').iloc[:,1:]"
   ]
  },
  {
   "cell_type": "markdown",
   "metadata": {
    "toc-hr-collapsed": false
   },
   "source": [
    "## Solve Equation"
   ]
  },
  {
   "cell_type": "markdown",
   "metadata": {},
   "source": [
    "### define M for poly"
   ]
  },
  {
   "cell_type": "code",
   "execution_count": 5,
   "metadata": {},
   "outputs": [],
   "source": [
    "def two(x):\n",
    "    sq = pd.DataFrame()\n",
    "    for i in range(x.shape[1]):\n",
    "        for j in range(x.shape[1]):\n",
    "            if j >= i:\n",
    "                row = []\n",
    "                for k in range(x.shape[0]):\n",
    "                    row.extend([x.iloc[k, i]*x.iloc[k, j]])\n",
    "                str = data_x.columns.values[i]+'*'+data_x.columns.values[j]\n",
    "                sq[str] = row\n",
    "    return sq"
   ]
  },
  {
   "cell_type": "markdown",
   "metadata": {},
   "source": [
    "### define $\\Phi$ matrix"
   ]
  },
  {
   "cell_type": "markdown",
   "metadata": {},
   "source": [
    "$$\\phi_j(x_i)= \\Sigma \\ \\Pi_{i=0}^j x_i$$"
   ]
  },
  {
   "cell_type": "code",
   "execution_count": 6,
   "metadata": {},
   "outputs": [],
   "source": [
    "def get_polyphi(x, M):\n",
    "    inter = pd.DataFrame({'C': np.repeat(1, len(x), axis=0).transpose()}).astype('float32').reset_index(drop=True)\n",
    "    onep = x.reset_index(drop=True)\n",
    "    sq = two(x).reset_index(drop=True)\n",
    "    \n",
    "    if M == 0:\n",
    "        phi = pd.concat([inter], axis=1, ignore_index=True).values\n",
    "    elif M == 1:\n",
    "        phi = pd.concat([inter, onep], axis=1, ignore_index=True).values\n",
    "    elif M == 2:\n",
    "        phi = pd.concat([inter, onep, sq], axis=1, ignore_index=True).values\n",
    "    else:\n",
    "        return print(\"invalid M\")\n",
    "    return phi"
   ]
  },
  {
   "cell_type": "markdown",
   "metadata": {},
   "source": [
    "$$\\phi_j(x)=\\rm{exp}\\left\\{-\\frac{(x-\\mu_j)^2}{2s^2}\\right\\},\\ where\\ s = 0.1$$"
   ]
  },
  {
   "cell_type": "code",
   "execution_count": 7,
   "metadata": {},
   "outputs": [],
   "source": [
    "def get_gaussphi(x, M):\n",
    "    # s = np.std(x)\n",
    "    # s = 0.1\n",
    "    if M > x.shape[1]:\n",
    "        return \"M input invalid\"\n",
    "    else:\n",
    "        inter = pd.DataFrame({'C': np.repeat(1, len(x), axis=0).transpose()}).astype('float32').reset_index(drop=True)\n",
    "        f = lambda x: np.exp(-((x-np.mean(x))**2)/(2*(np.std(x))**2))\n",
    "        phi = pd.concat([inter, x.apply(f).iloc[:, 0:M]], axis=1, ignore_index=True)\n",
    "    return phi"
   ]
  },
  {
   "cell_type": "markdown",
   "metadata": {},
   "source": [
    "### Solve $w$"
   ]
  },
  {
   "cell_type": "markdown",
   "metadata": {},
   "source": [
    "$$w = (\\lambda I + \\Phi^T  \\Phi)^{-1} \\Phi^T  y$$"
   ]
  },
  {
   "cell_type": "code",
   "execution_count": 8,
   "metadata": {},
   "outputs": [],
   "source": [
    "def solve_reg(x, y, M, lam, f):\n",
    "    y = y.values\n",
    "    phi = f(x, M)    \n",
    "    w = np.linalg.inv(lam* np.eye(phi.shape[1]) + phi.T @ phi) @ phi.T @ y\n",
    "    return (w, phi)"
   ]
  },
  {
   "cell_type": "markdown",
   "metadata": {},
   "source": [
    "## define Cross Validation"
   ]
  },
  {
   "cell_type": "markdown",
   "metadata": {},
   "source": [
    "### split data"
   ]
  },
  {
   "cell_type": "code",
   "execution_count": 9,
   "metadata": {},
   "outputs": [],
   "source": [
    "def get_ID(dataset):\n",
    "    list0 = ([x for x in range(dataset.shape[0])])\n",
    "    shuffle(list0)\n",
    "    return list0\n",
    "\n",
    "def split_ID(list0, val_size:float):\n",
    "    return ([list0[i:i + int(val_size*len(list0))] for i in range(0, len(list0), int(val_size*len(list0)))])\n",
    "\n",
    "def split_ID2(list0, piles):\n",
    "    p = [[] for _ in range(piles)]\n",
    "    for i in range(len(list0)):\n",
    "        for j in range(piles):\n",
    "            if i % piles == j:\n",
    "                p[j].append(list0[i])\n",
    "    return [p][0]"
   ]
  },
  {
   "cell_type": "markdown",
   "metadata": {},
   "source": [
    "### CV"
   ]
  },
  {
   "cell_type": "code",
   "execution_count": 10,
   "metadata": {},
   "outputs": [],
   "source": [
    "def cross_val(x, t, piles, M, lam, fun):\n",
    "    \"\"\"\n",
    "    Parameters\n",
    "    ------------\n",
    "    x, t: training and target data\n",
    "    piles: split data into piles\n",
    "    M: hyperparameters for basis function\n",
    "    lam: regularization term\n",
    "    fun: basis function\n",
    "    \"\"\"\n",
    "    p = split_ID2(get_ID(x), piles)\n",
    "    CV_RMSE = []\n",
    "    train_RMSE = []\n",
    "    for i in range(len(p)):\n",
    "        cv_x = x.loc[p[i]].reset_index(drop=True)\n",
    "        cv_t = t.loc[p[i]].reset_index(drop=True)\n",
    "        sub_x = x.loc[~x.index.isin(p[i])].reset_index(drop=True)\n",
    "        sub_t = t.loc[~t.index.isin(p[i])].reset_index(drop=True)\n",
    "        w, phi = solve_reg(sub_x, sub_t, M, lam, fun)\n",
    "        res_CV = ((np.ones(cv_t.shape[0]) @ ((fun(cv_x, M) @ w - cv_t.values)**2))/cv_t.shape[0])**0.5\n",
    "        res_train = ((np.ones(sub_t.shape[0]) @ ((phi @ w - sub_t.values)**2))/sub_t.shape[0])**0.5\n",
    "        CV_RMSE.append(res_CV[0])\n",
    "        train_RMSE.append(res_train[0])\n",
    "        if res_CV[0] == min(CV_RMSE):\n",
    "            w_m = w\n",
    "            i_L = i\n",
    "            #print(i, \"update\")\n",
    "        RMSE = pd.DataFrame({'train_RMSE': train_RMSE, 'CV_RMSE': CV_RMSE})\n",
    "    print(\"by RMSE, we choose fold {} for the training.\".format(i_L))\n",
    "    return RMSE, w_m"
   ]
  },
  {
   "cell_type": "markdown",
   "metadata": {},
   "source": [
    "## define search function for hyperparameter  "
   ]
  },
  {
   "cell_type": "code",
   "execution_count": 11,
   "metadata": {},
   "outputs": [],
   "source": [
    "def search_hyper(x, t, piles, M, lam, fun):\n",
    "    RMSE_min = float('inf')\n",
    "    i_min = None\n",
    "\n",
    "    for i in range(M):\n",
    "        print(\"iter: {}\".format(i))\n",
    "        M_G = cross_val(x, t, piles, i, lam, fun)\n",
    "        if np.min(M_G[0].iloc[:, 1:])[0] < RMSE_min:\n",
    "            RMSE_min = np.min(M_G[0].iloc[:, 1:])[0]\n",
    "            i_min = i\n",
    "            w_opt = M_G[1]\n",
    "    print(\"\\nFrom iteration {}, we got the lowest CV_RMSE: {}, and the weight has save to w_opt\".format(i_min, RMSE_min))\n",
    "    return [w_opt, i_min]"
   ]
  },
  {
   "cell_type": "markdown",
   "metadata": {},
   "source": [
    "## define MAP process"
   ]
  },
  {
   "cell_type": "code",
   "execution_count": 12,
   "metadata": {},
   "outputs": [],
   "source": [
    "def get_post(x, y, s0, m0, M):\n",
    "    beta = 0.2\n",
    "    y = y.values\n",
    "    phi = get_gaussphi(x, M)\n",
    "    sn = np.linalg.inv(np.linalg.inv(s0) + beta*(phi.T @ phi))\n",
    "    mn = sn @ (np.linalg.inv(s0) @ m0 + beta*(phi.T @ y))\n",
    "    return [sn, mn]"
   ]
  },
  {
   "cell_type": "code",
   "execution_count": 13,
   "metadata": {},
   "outputs": [],
   "source": [
    "def batch_learn(x, t, piles, s0, m0, M):\n",
    "    p = split_ID2(get_ID(x), piles)\n",
    "    sn = s0\n",
    "    mn = m0\n",
    "    for i in range(len(p)):\n",
    "        sub_x = x.loc[~x.index.isin(p[i])].reset_index(drop=True)\n",
    "        sub_t = t.loc[~t.index.isin(p[i])].reset_index(drop=True)\n",
    "        MAP = get_post(sub_x, sub_t, sn, mn, M)\n",
    "    \n",
    "    return MAP"
   ]
  },
  {
   "cell_type": "markdown",
   "metadata": {},
   "source": [
    "## 1. Feature Selection"
   ]
  },
  {
   "cell_type": "markdown",
   "metadata": {},
   "source": [
    "### a. In the feature selection stage, please apply polynomials of order M = 1 and M = 2 over the dimension D = 17 of input data. **Please evaluate the corresponding RMS error on the training set and validation set.**  "
   ]
  },
  {
   "cell_type": "code",
   "execution_count": 14,
   "metadata": {},
   "outputs": [
    {
     "name": "stdout",
     "output_type": "stream",
     "text": [
      "by RMSE, we choose fold 1 for the training.\n",
      "by RMSE, we choose fold 4 for the training.\n"
     ]
    }
   ],
   "source": [
    "M_2 = cross_val(data_x, data_t, 5, 2, 0, get_polyphi)\n",
    "M_1 = cross_val(data_x, data_t, 5, 1, 0, get_polyphi)"
   ]
  },
  {
   "cell_type": "code",
   "execution_count": 15,
   "metadata": {},
   "outputs": [
    {
     "data": {
      "text/html": [
       "<div>\n",
       "<style scoped>\n",
       "    .dataframe tbody tr th:only-of-type {\n",
       "        vertical-align: middle;\n",
       "    }\n",
       "\n",
       "    .dataframe tbody tr th {\n",
       "        vertical-align: top;\n",
       "    }\n",
       "\n",
       "    .dataframe thead th {\n",
       "        text-align: right;\n",
       "    }\n",
       "</style>\n",
       "<table border=\"1\" class=\"dataframe\">\n",
       "  <thead>\n",
       "    <tr style=\"text-align: right;\">\n",
       "      <th></th>\n",
       "      <th>train_RMSE</th>\n",
       "      <th>CV_RMSE</th>\n",
       "    </tr>\n",
       "  </thead>\n",
       "  <tbody>\n",
       "    <tr>\n",
       "      <th>0</th>\n",
       "      <td>4.124690</td>\n",
       "      <td>4.100647</td>\n",
       "    </tr>\n",
       "    <tr>\n",
       "      <th>1</th>\n",
       "      <td>3.947910</td>\n",
       "      <td>4.789979</td>\n",
       "    </tr>\n",
       "    <tr>\n",
       "      <th>2</th>\n",
       "      <td>4.135423</td>\n",
       "      <td>4.052498</td>\n",
       "    </tr>\n",
       "    <tr>\n",
       "      <th>3</th>\n",
       "      <td>4.123886</td>\n",
       "      <td>4.115327</td>\n",
       "    </tr>\n",
       "    <tr>\n",
       "      <th>4</th>\n",
       "      <td>4.135633</td>\n",
       "      <td>4.022529</td>\n",
       "    </tr>\n",
       "  </tbody>\n",
       "</table>\n",
       "</div>"
      ],
      "text/plain": [
       "   train_RMSE   CV_RMSE\n",
       "0    4.124690  4.100647\n",
       "1    3.947910  4.789979\n",
       "2    4.135423  4.052498\n",
       "3    4.123886  4.115327\n",
       "4    4.135633  4.022529"
      ]
     },
     "execution_count": 15,
     "metadata": {},
     "output_type": "execute_result"
    },
    {
     "data": {
      "text/html": [
       "<div>\n",
       "<style scoped>\n",
       "    .dataframe tbody tr th:only-of-type {\n",
       "        vertical-align: middle;\n",
       "    }\n",
       "\n",
       "    .dataframe tbody tr th {\n",
       "        vertical-align: top;\n",
       "    }\n",
       "\n",
       "    .dataframe thead th {\n",
       "        text-align: right;\n",
       "    }\n",
       "</style>\n",
       "<table border=\"1\" class=\"dataframe\">\n",
       "  <thead>\n",
       "    <tr style=\"text-align: right;\">\n",
       "      <th></th>\n",
       "      <th>train_RMSE</th>\n",
       "      <th>CV_RMSE</th>\n",
       "    </tr>\n",
       "  </thead>\n",
       "  <tbody>\n",
       "    <tr>\n",
       "      <th>0</th>\n",
       "      <td>3.272475</td>\n",
       "      <td>4.800359</td>\n",
       "    </tr>\n",
       "    <tr>\n",
       "      <th>1</th>\n",
       "      <td>3.330068</td>\n",
       "      <td>4.172624</td>\n",
       "    </tr>\n",
       "    <tr>\n",
       "      <th>2</th>\n",
       "      <td>3.301242</td>\n",
       "      <td>5.053778</td>\n",
       "    </tr>\n",
       "    <tr>\n",
       "      <th>3</th>\n",
       "      <td>3.217117</td>\n",
       "      <td>5.548506</td>\n",
       "    </tr>\n",
       "    <tr>\n",
       "      <th>4</th>\n",
       "      <td>3.255706</td>\n",
       "      <td>4.662450</td>\n",
       "    </tr>\n",
       "  </tbody>\n",
       "</table>\n",
       "</div>"
      ],
      "text/plain": [
       "   train_RMSE   CV_RMSE\n",
       "0    3.272475  4.800359\n",
       "1    3.330068  4.172624\n",
       "2    3.301242  5.053778\n",
       "3    3.217117  5.548506\n",
       "4    3.255706  4.662450"
      ]
     },
     "execution_count": 15,
     "metadata": {},
     "output_type": "execute_result"
    }
   ],
   "source": [
    "M_1[0]\n",
    "M_2[0]"
   ]
  },
  {
   "cell_type": "markdown",
   "metadata": {},
   "source": [
    ">From the result above, we can easily find out that train_RMSE is lower when M = 2, but CV_RMSE gets higher simultaneously.  \n",
    "We may say it's the consequence of overfitting becuase the model is too complex.  "
   ]
  },
  {
   "cell_type": "markdown",
   "metadata": {},
   "source": [
    "### b. Please analyze the **weights of polynomial models for $\\rm M = 1$** and select the most contributive attribute which has the lowest RMS error on the Training Dataset.  "
   ]
  },
  {
   "cell_type": "code",
   "execution_count": 16,
   "metadata": {},
   "outputs": [
    {
     "data": {
      "text/plain": [
       "array([[-1.95326765e+01],\n",
       "       [ 2.28682316e-02],\n",
       "       [ 1.89471675e+01],\n",
       "       [ 2.29667125e+01],\n",
       "       [-2.80782751e+01],\n",
       "       [ 1.45658668e+00],\n",
       "       [ 1.91586996e+00],\n",
       "       [-1.76386087e+00],\n",
       "       [ 3.14089560e-02],\n",
       "       [ 4.15924627e-01],\n",
       "       [-9.32115418e-01],\n",
       "       [ 6.21448417e-02],\n",
       "       [ 5.29546268e-01],\n",
       "       [-1.30950521e+01],\n",
       "       [ 4.34440115e-02],\n",
       "       [-3.87311907e-02],\n",
       "       [ 2.76724687e+00],\n",
       "       [-4.45916499e+00]])"
      ]
     },
     "execution_count": 16,
     "metadata": {},
     "output_type": "execute_result"
    }
   ],
   "source": [
    "M_1[1]"
   ]
  },
  {
   "cell_type": "markdown",
   "metadata": {},
   "source": [
    "> The list above is the $w$ of the model which provides the lowest CV_RMSE when $\\rm M = 1$.  "
   ]
  },
  {
   "cell_type": "markdown",
   "metadata": {},
   "source": [
    "## 2. Maximum Likelihood Approach"
   ]
  },
  {
   "cell_type": "markdown",
   "metadata": {},
   "source": [
    "### a. **Choose some of air quality measurement** in dataset X.csv and design your model. You can choose any basis functions you like and implemented the feature vector.  "
   ]
  },
  {
   "cell_type": "markdown",
   "metadata": {},
   "source": [
    "> Here I **selected 10 air quality measurements** as independent variables, and conducted a cross-validation process to make sure that the model won't be over-fitting.  "
   ]
  },
  {
   "cell_type": "code",
   "execution_count": 17,
   "metadata": {},
   "outputs": [
    {
     "name": "stdout",
     "output_type": "stream",
     "text": [
      "by RMSE, we choose fold 0 for the training.\n"
     ]
    }
   ],
   "source": [
    "M_G_10 = cross_val(data_x, data_t, 5, 10, 0, get_gaussphi)"
   ]
  },
  {
   "cell_type": "code",
   "execution_count": 18,
   "metadata": {},
   "outputs": [
    {
     "data": {
      "text/html": [
       "<div>\n",
       "<style scoped>\n",
       "    .dataframe tbody tr th:only-of-type {\n",
       "        vertical-align: middle;\n",
       "    }\n",
       "\n",
       "    .dataframe tbody tr th {\n",
       "        vertical-align: top;\n",
       "    }\n",
       "\n",
       "    .dataframe thead th {\n",
       "        text-align: right;\n",
       "    }\n",
       "</style>\n",
       "<table border=\"1\" class=\"dataframe\">\n",
       "  <thead>\n",
       "    <tr style=\"text-align: right;\">\n",
       "      <th></th>\n",
       "      <th>train_RMSE</th>\n",
       "      <th>CV_RMSE</th>\n",
       "    </tr>\n",
       "  </thead>\n",
       "  <tbody>\n",
       "    <tr>\n",
       "      <th>0</th>\n",
       "      <td>8.620325</td>\n",
       "      <td>8.105435</td>\n",
       "    </tr>\n",
       "    <tr>\n",
       "      <th>1</th>\n",
       "      <td>8.444232</td>\n",
       "      <td>8.665498</td>\n",
       "    </tr>\n",
       "    <tr>\n",
       "      <th>2</th>\n",
       "      <td>8.539940</td>\n",
       "      <td>8.473902</td>\n",
       "    </tr>\n",
       "    <tr>\n",
       "      <th>3</th>\n",
       "      <td>8.450909</td>\n",
       "      <td>8.761456</td>\n",
       "    </tr>\n",
       "    <tr>\n",
       "      <th>4</th>\n",
       "      <td>8.366492</td>\n",
       "      <td>9.104294</td>\n",
       "    </tr>\n",
       "  </tbody>\n",
       "</table>\n",
       "</div>"
      ],
      "text/plain": [
       "   train_RMSE   CV_RMSE\n",
       "0    8.620325  8.105435\n",
       "1    8.444232  8.665498\n",
       "2    8.539940  8.473902\n",
       "3    8.450909  8.761456\n",
       "4    8.366492  9.104294"
      ]
     },
     "execution_count": 18,
     "metadata": {},
     "output_type": "execute_result"
    }
   ],
   "source": [
    "M_G_10[0]"
   ]
  },
  {
   "cell_type": "markdown",
   "metadata": {},
   "source": [
    "### b. Apply N-fold cross-validation in your training stage to select at least one hyperparameter (order, parameter number, ...) for model and do some discussion (underfitting, overfitting).  \n"
   ]
  },
  {
   "cell_type": "code",
   "execution_count": 19,
   "metadata": {},
   "outputs": [
    {
     "name": "stdout",
     "output_type": "stream",
     "text": [
      "iter: 0\n",
      "by RMSE, we choose fold 0 for the training.\n",
      "iter: 1\n",
      "by RMSE, we choose fold 5 for the training.\n",
      "iter: 2\n",
      "by RMSE, we choose fold 2 for the training.\n",
      "iter: 3\n",
      "by RMSE, we choose fold 5 for the training.\n",
      "iter: 4\n",
      "by RMSE, we choose fold 0 for the training.\n",
      "iter: 5\n",
      "by RMSE, we choose fold 1 for the training.\n",
      "iter: 6\n",
      "by RMSE, we choose fold 5 for the training.\n",
      "iter: 7\n",
      "by RMSE, we choose fold 5 for the training.\n",
      "iter: 8\n",
      "by RMSE, we choose fold 6 for the training.\n",
      "iter: 9\n",
      "by RMSE, we choose fold 5 for the training.\n",
      "iter: 10\n",
      "by RMSE, we choose fold 6 for the training.\n",
      "iter: 11\n",
      "by RMSE, we choose fold 4 for the training.\n",
      "iter: 12\n",
      "by RMSE, we choose fold 3 for the training.\n",
      "iter: 13\n",
      "by RMSE, we choose fold 3 for the training.\n",
      "iter: 14\n",
      "by RMSE, we choose fold 4 for the training.\n",
      "iter: 15\n",
      "by RMSE, we choose fold 4 for the training.\n",
      "iter: 16\n",
      "by RMSE, we choose fold 1 for the training.\n",
      "iter: 17\n",
      "by RMSE, we choose fold 1 for the training.\n",
      "\n",
      "From iteration 13, we got the lowest CV_RMSE: 7.378344863734154, and the weight has save to w_opt\n"
     ]
    }
   ],
   "source": [
    "w_SP = search_hyper(data_x, data_t, 7, 18, 1, get_gaussphi)"
   ]
  },
  {
   "cell_type": "markdown",
   "metadata": {},
   "source": [
    "> **w_opt** is shown in the chunk below.  "
   ]
  },
  {
   "cell_type": "code",
   "execution_count": 20,
   "metadata": {},
   "outputs": [
    {
     "data": {
      "text/plain": [
       "[            0\n",
       " 0   24.623731\n",
       " 1    6.364524\n",
       " 2   -3.827172\n",
       " 3   -5.234192\n",
       " 4   -1.425304\n",
       " 5   -9.238251\n",
       " 6   -2.678211\n",
       " 7    3.834383\n",
       " 8    0.706080\n",
       " 9  -13.001768\n",
       " 10  10.864498\n",
       " 11  -0.356424\n",
       " 12  -4.618514\n",
       " 13   8.005912, 13]"
      ]
     },
     "execution_count": 20,
     "metadata": {},
     "output_type": "execute_result"
    }
   ],
   "source": [
    "w_SP"
   ]
  },
  {
   "cell_type": "markdown",
   "metadata": {},
   "source": [
    "## 3. Maximum a posteriori approach"
   ]
  },
  {
   "cell_type": "markdown",
   "metadata": {},
   "source": [
    "### a. Use maximum a posteriori approach method and repeat **2.(a)** and **2.(b)**. You could choose Gaussian distribution as a prior.  "
   ]
  },
  {
   "cell_type": "markdown",
   "metadata": {},
   "source": [
    "> I'll choose **Gaussian basis function** here, and try to calculate the posterior distribution.  \n",
    "> \n",
    "> Add a Gaussian noise to the model:  \n",
    "> $$\\epsilon \\sim N(0,\\ \\beta)$$  \n",
    "> We may renew our parameters by the functions below:   \n",
    "> \n",
    "> $$p(w|t) = N(w|m_N,\\ S_N)\\ \\rm{,where\\ }$$  \n",
    "> $$S_N^{-1} = S_0^{-1} + \\beta \\Phi^T \\Phi$$  \n",
    "> $$m_N = S_N (S_0^{-1}m_0 + \\beta \\Phi^T y)$$"
   ]
  },
  {
   "cell_type": "code",
   "execution_count": 21,
   "metadata": {},
   "outputs": [],
   "source": [
    "M = w_SP[1]\n",
    "m0 = np.zeros(M+1).reshape(-1,1)\n",
    "s0 = 2*np.eye(M+1)\n",
    "beta = 0.2\n"
   ]
  },
  {
   "cell_type": "code",
   "execution_count": 22,
   "metadata": {},
   "outputs": [],
   "source": [
    "mn = batch_learn(data_x, data_t, 100, s0, m0, M)[1]"
   ]
  },
  {
   "cell_type": "code",
   "execution_count": 23,
   "metadata": {},
   "outputs": [
    {
     "name": "stdout",
     "output_type": "stream",
     "text": [
      "by RMSE, we choose fold 1 for the training.\n"
     ]
    }
   ],
   "source": [
    "M_G_ML = cross_val(data_x, data_t, 7, 5, 0, get_gaussphi)"
   ]
  },
  {
   "cell_type": "markdown",
   "metadata": {},
   "source": [
    "### b. Compare the result between maximum likelihood approach and maximum a posteriori approach.  "
   ]
  },
  {
   "cell_type": "markdown",
   "metadata": {},
   "source": [
    "> The results below, I'll show the RMSE of $w$ from MAP first and then from Maximize Likelihood.  "
   ]
  },
  {
   "cell_type": "code",
   "execution_count": 24,
   "metadata": {},
   "outputs": [
    {
     "data": {
      "text/plain": [
       "0    8.389532\n",
       "dtype: float64"
      ]
     },
     "execution_count": 24,
     "metadata": {},
     "output_type": "execute_result"
    }
   ],
   "source": [
    "((np.ones(data_t.shape[0]) @ ((get_gaussphi(data_x, M) @ mn - data_t.values)**2))/data_t.shape[0])**0.5"
   ]
  },
  {
   "cell_type": "code",
   "execution_count": 25,
   "metadata": {},
   "outputs": [
    {
     "data": {
      "text/html": [
       "<div>\n",
       "<style scoped>\n",
       "    .dataframe tbody tr th:only-of-type {\n",
       "        vertical-align: middle;\n",
       "    }\n",
       "\n",
       "    .dataframe tbody tr th {\n",
       "        vertical-align: top;\n",
       "    }\n",
       "\n",
       "    .dataframe thead th {\n",
       "        text-align: right;\n",
       "    }\n",
       "</style>\n",
       "<table border=\"1\" class=\"dataframe\">\n",
       "  <thead>\n",
       "    <tr style=\"text-align: right;\">\n",
       "      <th></th>\n",
       "      <th>train_RMSE</th>\n",
       "      <th>CV_RMSE</th>\n",
       "    </tr>\n",
       "  </thead>\n",
       "  <tbody>\n",
       "    <tr>\n",
       "      <th>0</th>\n",
       "      <td>9.486842</td>\n",
       "      <td>8.925995</td>\n",
       "    </tr>\n",
       "    <tr>\n",
       "      <th>1</th>\n",
       "      <td>9.524986</td>\n",
       "      <td>8.611880</td>\n",
       "    </tr>\n",
       "    <tr>\n",
       "      <th>2</th>\n",
       "      <td>9.358976</td>\n",
       "      <td>9.679364</td>\n",
       "    </tr>\n",
       "    <tr>\n",
       "      <th>3</th>\n",
       "      <td>9.332668</td>\n",
       "      <td>9.828988</td>\n",
       "    </tr>\n",
       "    <tr>\n",
       "      <th>4</th>\n",
       "      <td>9.347740</td>\n",
       "      <td>9.689268</td>\n",
       "    </tr>\n",
       "    <tr>\n",
       "      <th>5</th>\n",
       "      <td>9.346682</td>\n",
       "      <td>9.744369</td>\n",
       "    </tr>\n",
       "    <tr>\n",
       "      <th>6</th>\n",
       "      <td>9.335558</td>\n",
       "      <td>9.726591</td>\n",
       "    </tr>\n",
       "  </tbody>\n",
       "</table>\n",
       "</div>"
      ],
      "text/plain": [
       "   train_RMSE   CV_RMSE\n",
       "0    9.486842  8.925995\n",
       "1    9.524986  8.611880\n",
       "2    9.358976  9.679364\n",
       "3    9.332668  9.828988\n",
       "4    9.347740  9.689268\n",
       "5    9.346682  9.744369\n",
       "6    9.335558  9.726591"
      ]
     },
     "execution_count": 25,
     "metadata": {},
     "output_type": "execute_result"
    }
   ],
   "source": [
    "M_G_ML[0]"
   ]
  }
 ],
 "metadata": {
  "kernelspec": {
   "display_name": "Python 3",
   "language": "python",
   "name": "python3"
  },
  "language_info": {
   "codemirror_mode": {
    "name": "ipython",
    "version": 3
   },
   "file_extension": ".py",
   "mimetype": "text/x-python",
   "name": "python",
   "nbconvert_exporter": "python",
   "pygments_lexer": "ipython3",
   "version": "3.7.5"
  },
  "toc-autonumbering": false,
  "toc-showcode": false
 },
 "nbformat": 4,
 "nbformat_minor": 4
}
